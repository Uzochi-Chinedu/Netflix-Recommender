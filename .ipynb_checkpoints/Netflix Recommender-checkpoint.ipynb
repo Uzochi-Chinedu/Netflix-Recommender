{
 "cells": [
  {
   "cell_type": "code",
   "execution_count": 2,
   "id": "7c5dcb9c-e816-4b39-932a-16c682aabd3d",
   "metadata": {},
   "outputs": [],
   "source": [
    "import pandas as pd\n",
    "from sklearn.metrics.pairwise  import cosine_similarity\n",
    "from sklearn.feature_extraction.text import CountVectorizer"
   ]
  },
  {
   "cell_type": "code",
   "execution_count": null,
   "id": "543aa842-7940-44a9-b71c-ca70d00ddf8b",
   "metadata": {},
   "outputs": [],
   "source": [
    "#Load our data\n"
   ]
  }
 ],
 "metadata": {
  "kernelspec": {
   "display_name": "Python 3 (ipykernel)",
   "language": "python",
   "name": "python3"
  },
  "language_info": {
   "codemirror_mode": {
    "name": "ipython",
    "version": 3
   },
   "file_extension": ".py",
   "mimetype": "text/x-python",
   "name": "python",
   "nbconvert_exporter": "python",
   "pygments_lexer": "ipython3",
   "version": "3.12.7"
  }
 },
 "nbformat": 4,
 "nbformat_minor": 5
}
