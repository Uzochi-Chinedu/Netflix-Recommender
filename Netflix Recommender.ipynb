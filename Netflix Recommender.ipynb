{
 "cells": [
  {
   "cell_type": "code",
   "execution_count": 28,
   "id": "7c5dcb9c-e816-4b39-932a-16c682aabd3d",
   "metadata": {},
   "outputs": [],
   "source": [
    "import pandas as pd\n",
    "from sklearn.metrics.pairwise  import cosine_similarity\n",
    "from sklearn.feature_extraction.text import CountVectorizer"
   ]
  },
  {
   "cell_type": "code",
   "execution_count": 29,
   "id": "543aa842-7940-44a9-b71c-ca70d00ddf8b",
   "metadata": {},
   "outputs": [],
   "source": [
    "#Load our data\n",
    "df = pd.read_csv(\"Best Movie by Year Netflix.csv\")"
   ]
  },
  {
   "cell_type": "code",
   "execution_count": 30,
   "id": "409c6a77-caf5-42bb-8dbe-887597495888",
   "metadata": {},
   "outputs": [
    {
     "data": {
      "text/html": [
       "<div>\n",
       "<style scoped>\n",
       "    .dataframe tbody tr th:only-of-type {\n",
       "        vertical-align: middle;\n",
       "    }\n",
       "\n",
       "    .dataframe tbody tr th {\n",
       "        vertical-align: top;\n",
       "    }\n",
       "\n",
       "    .dataframe thead th {\n",
       "        text-align: right;\n",
       "    }\n",
       "</style>\n",
       "<table border=\"1\" class=\"dataframe\">\n",
       "  <thead>\n",
       "    <tr style=\"text-align: right;\">\n",
       "      <th></th>\n",
       "      <th>index</th>\n",
       "      <th>TITLE</th>\n",
       "      <th>RELEASE_YEAR</th>\n",
       "      <th>SCORE</th>\n",
       "      <th>MAIN_GENRE</th>\n",
       "      <th>MAIN_PRODUCTION</th>\n",
       "    </tr>\n",
       "  </thead>\n",
       "  <tbody>\n",
       "    <tr>\n",
       "      <th>0</th>\n",
       "      <td>0</td>\n",
       "      <td>White Christmas</td>\n",
       "      <td>1954</td>\n",
       "      <td>7.5</td>\n",
       "      <td>romance</td>\n",
       "      <td>US</td>\n",
       "    </tr>\n",
       "    <tr>\n",
       "      <th>1</th>\n",
       "      <td>1</td>\n",
       "      <td>The Guns of Navarone</td>\n",
       "      <td>1961</td>\n",
       "      <td>7.5</td>\n",
       "      <td>war</td>\n",
       "      <td>US</td>\n",
       "    </tr>\n",
       "    <tr>\n",
       "      <th>2</th>\n",
       "      <td>2</td>\n",
       "      <td>My Fair Lady</td>\n",
       "      <td>1964</td>\n",
       "      <td>7.8</td>\n",
       "      <td>drama</td>\n",
       "      <td>US</td>\n",
       "    </tr>\n",
       "    <tr>\n",
       "      <th>3</th>\n",
       "      <td>3</td>\n",
       "      <td>Bonnie and Clyde</td>\n",
       "      <td>1967</td>\n",
       "      <td>7.7</td>\n",
       "      <td>drama</td>\n",
       "      <td>US</td>\n",
       "    </tr>\n",
       "    <tr>\n",
       "      <th>4</th>\n",
       "      <td>4</td>\n",
       "      <td>Dirty Harry</td>\n",
       "      <td>1971</td>\n",
       "      <td>7.7</td>\n",
       "      <td>thriller</td>\n",
       "      <td>US</td>\n",
       "    </tr>\n",
       "  </tbody>\n",
       "</table>\n",
       "</div>"
      ],
      "text/plain": [
       "   index                 TITLE  RELEASE_YEAR  SCORE MAIN_GENRE MAIN_PRODUCTION\n",
       "0      0       White Christmas          1954    7.5    romance              US\n",
       "1      1  The Guns of Navarone          1961    7.5        war              US\n",
       "2      2          My Fair Lady          1964    7.8      drama              US\n",
       "3      3      Bonnie and Clyde          1967    7.7      drama              US\n",
       "4      4           Dirty Harry          1971    7.7   thriller              US"
      ]
     },
     "execution_count": 30,
     "metadata": {},
     "output_type": "execute_result"
    }
   ],
   "source": [
    "#Display the dataset\n",
    "df.head()"
   ]
  },
  {
   "cell_type": "code",
   "execution_count": 31,
   "id": "238a7114-1bc1-497f-bfb1-c6192b1c3f1b",
   "metadata": {},
   "outputs": [],
   "source": [
    "# I want only the title and the genre\n",
    "df = df.drop(['index', 'RELEASE_YEAR', 'SCORE', 'MAIN_PRODUCTION'], axis=1)"
   ]
  },
  {
   "cell_type": "code",
   "execution_count": 32,
   "id": "96265cc7-9365-4705-8b42-b6c95e37f269",
   "metadata": {},
   "outputs": [
    {
     "data": {
      "text/html": [
       "<div>\n",
       "<style scoped>\n",
       "    .dataframe tbody tr th:only-of-type {\n",
       "        vertical-align: middle;\n",
       "    }\n",
       "\n",
       "    .dataframe tbody tr th {\n",
       "        vertical-align: top;\n",
       "    }\n",
       "\n",
       "    .dataframe thead th {\n",
       "        text-align: right;\n",
       "    }\n",
       "</style>\n",
       "<table border=\"1\" class=\"dataframe\">\n",
       "  <thead>\n",
       "    <tr style=\"text-align: right;\">\n",
       "      <th></th>\n",
       "      <th>TITLE</th>\n",
       "      <th>MAIN_GENRE</th>\n",
       "    </tr>\n",
       "  </thead>\n",
       "  <tbody>\n",
       "    <tr>\n",
       "      <th>0</th>\n",
       "      <td>White Christmas</td>\n",
       "      <td>romance</td>\n",
       "    </tr>\n",
       "    <tr>\n",
       "      <th>1</th>\n",
       "      <td>The Guns of Navarone</td>\n",
       "      <td>war</td>\n",
       "    </tr>\n",
       "    <tr>\n",
       "      <th>2</th>\n",
       "      <td>My Fair Lady</td>\n",
       "      <td>drama</td>\n",
       "    </tr>\n",
       "    <tr>\n",
       "      <th>3</th>\n",
       "      <td>Bonnie and Clyde</td>\n",
       "      <td>drama</td>\n",
       "    </tr>\n",
       "    <tr>\n",
       "      <th>4</th>\n",
       "      <td>Dirty Harry</td>\n",
       "      <td>thriller</td>\n",
       "    </tr>\n",
       "  </tbody>\n",
       "</table>\n",
       "</div>"
      ],
      "text/plain": [
       "                  TITLE MAIN_GENRE\n",
       "0       White Christmas    romance\n",
       "1  The Guns of Navarone        war\n",
       "2          My Fair Lady      drama\n",
       "3      Bonnie and Clyde      drama\n",
       "4           Dirty Harry   thriller"
      ]
     },
     "execution_count": 32,
     "metadata": {},
     "output_type": "execute_result"
    }
   ],
   "source": [
    "#Display the dataset\n",
    "df.head()"
   ]
  },
  {
   "cell_type": "code",
   "execution_count": 33,
   "id": "d98ebac8-1d9b-47c1-a54f-e41dc282b5b7",
   "metadata": {},
   "outputs": [],
   "source": [
    "#Convert the genre into a matrix of token counts\n",
    "cv = CountVectorizer()\n",
    "genre_matrix = cv.fit_transform(df['MAIN_GENRE'])"
   ]
  },
  {
   "cell_type": "code",
   "execution_count": 34,
   "id": "af2b43a0-7572-4b8f-93a9-a8fefe2613e3",
   "metadata": {},
   "outputs": [],
   "source": [
    "#Calculate the similarity between movies\n",
    "cosine_sim = cosine_similarity(genre_matrix)"
   ]
  },
  {
   "cell_type": "code",
   "execution_count": 51,
   "id": "1af0940d-719d-4d85-b589-7aa840843678",
   "metadata": {},
   "outputs": [
    {
     "name": "stdout",
     "output_type": "stream",
     "text": [
      "You watched **Annie**, you might like:\n",
      "My Fair Lady\n",
      "Bonnie and Clyde\n",
      "Once Upon a Time in America\n"
     ]
    }
   ],
   "source": [
    "# We want it to recommend similar movies\n",
    "def recommend(TITLE):\n",
    "    matches = df[df.TITLE == TITLE]\n",
    "    if matches.empty:\n",
    "        print(f\"No movie found with title '{TITLE}'\")\n",
    "        return\n",
    "    \n",
    "    idx = matches.index[0]\n",
    "    similarity_scores = list(enumerate(cosine_sim[idx]))\n",
    "    sorted_movies = sorted(similarity_scores, key=lambda x: x[1], reverse=True)\n",
    "\n",
    "    print(f\"You watched **{TITLE}**, you might like:\")\n",
    "\n",
    "    # Count how many recommendations you've given so far\n",
    "    rec_count = 0\n",
    "    for i in sorted_movies:\n",
    "        recommended_title = df.iloc[i[0]].TITLE\n",
    "        if recommended_title != TITLE:\n",
    "            print(f\"{recommended_title}\")\n",
    "            rec_count += 1\n",
    "        if rec_count == 3:\n",
    "            break\n",
    "\n",
    "\n",
    "#Lets try it\n",
    "recommend('Annie')\n",
    "    \n"
   ]
  },
  {
   "cell_type": "code",
   "execution_count": null,
   "id": "c4e6ae77-71cd-471a-a7b6-3440178a5f41",
   "metadata": {},
   "outputs": [],
   "source": []
  }
 ],
 "metadata": {
  "kernelspec": {
   "display_name": "Python 3 (ipykernel)",
   "language": "python",
   "name": "python3"
  },
  "language_info": {
   "codemirror_mode": {
    "name": "ipython",
    "version": 3
   },
   "file_extension": ".py",
   "mimetype": "text/x-python",
   "name": "python",
   "nbconvert_exporter": "python",
   "pygments_lexer": "ipython3",
   "version": "3.12.7"
  }
 },
 "nbformat": 4,
 "nbformat_minor": 5
}
